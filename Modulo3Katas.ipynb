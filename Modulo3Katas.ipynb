{
 "cells": [
  {
   "cell_type": "markdown",
   "metadata": {},
   "source": [
    "# Ejercicio - Escribir declaraciones if, else, y elif"
   ]
  },
  {
   "cell_type": "markdown",
   "metadata": {},
   "source": [
    "### Para este ejercicio, escribirás una lógica condicional que imprima una advertencia si un asteroide se acerca a la Tierra demasiado rápido. La velocidad del asteroide varía dependiendo de lo cerca que esté del sol, y cualquier velocidad superior a 25 kilómetros por segundo (km/s) merece una advertencia.\n",
    "\n",
    "### Un asteroide se acerca, y viaja a una velocidad de 49 km/s."
   ]
  },
  {
   "cell_type": "code",
   "execution_count": 1,
   "metadata": {},
   "outputs": [
    {
     "name": "stdout",
     "output_type": "stream",
     "text": [
      "ADVERTENCIA UN ASTEROIDE SE ACERCA A LA TIERRA DEMASIADO RÁPIDO\n"
     ]
    }
   ],
   "source": [
    "Velocidad_Asteroide=49\n",
    "if Velocidad_Asteroide>25:\n",
    "    print(\"ADVERTENCIA UN ASTEROIDE SE ACERCA A LA TIERRA DEMASIADO RÁPIDO\")\n",
    "else:\n",
    "    print(\"No hay peligro de asteorides, pueden continuar con su día\")"
   ]
  },
  {
   "cell_type": "markdown",
   "metadata": {},
   "source": [
    "### Si un asteroide entra en la atmósfera de la Tierra a una velocidad mayor o igual a 20 km/s, a veces produce un rayo de luz que se puede ver desde la Tierra. Escribe la lógica condicional que usa declaraciones if, else, y elif para alertar a las personas de todo el mundo que deben buscar un asteroide en el cielo. ¡Hay uno que se dirige a la tierra ahora a una velocidad de 19 km/s!"
   ]
  },
  {
   "cell_type": "code",
   "execution_count": 2,
   "metadata": {},
   "outputs": [
    {
     "name": "stdout",
     "output_type": "stream",
     "text": [
      "No hay peligro de asteorides, pueden continuar con su día\n"
     ]
    }
   ],
   "source": [
    "Velocidad_Asteroide=19\n",
    "if Velocidad_Asteroide>20:\n",
    "    print(\"ADVERTENCIA UN ASTEROIDE ENTRO A LA ATMÓSFERA, BUSQUEN UN RAYO DEL LUZ EN EL CIELO \")\n",
    "elif Velocidad_Asteroide==20:\n",
    "    print(\"ADVERTENCIA UN ASTEROIDE ENTRO A LA ATMÓSFERA, BUSQUEN UN RAYO DEL LUZ EN EL CIELO \")\n",
    "else:\n",
    "    print(\"No hay peligro de asteorides, pueden continuar con su día\")"
   ]
  },
  {
   "cell_type": "markdown",
   "metadata": {},
   "source": [
    "### *Los asteroides de menos de 25 metros en su dimensión más grande probablemente se quemarán a medida que entren en la atmósfera de la Tierra.\n",
    "\n",
    "### Si una pieza de un asteroide que es más grande que 25 metros pero más pequeña que 1000 metros golpeara la Tierra, causaría mucho daño. También discutimos en el ejercicio anterior que:\n",
    "\n",
    "### La velocidad del asteroide varía en función de lo cerca que esté del sol, y cualquier velocidad superior a 25 kilómetros por segundo (km/s) merece una advertencia.\n",
    "### Si un asteroide entra en la atmósfera de la Tierra a una velocidad mayor o igual a 20 km/s, a veces produce un rayo de luz que se puede ver desde la Tierra.\n",
    "### Usando toda esta información, escribe un programa que emita la advertencia o información correcta a la gente de la Tierra, según la velocidad y el tamaño de un asteroide. Utiliza instrucciones if, else, y elif, así como los operadores and y or."
   ]
  },
  {
   "cell_type": "code",
   "execution_count": 16,
   "metadata": {},
   "outputs": [
    {
     "name": "stdout",
     "output_type": "stream",
     "text": [
      "ADVERTENCIA UN ASTEROIDE ENTRO A LA ATMÓSFERA, BUSQUEN UN RAYO DEL LUZ EN EL CIELO \n",
      "No hay peligro del asteroide, se quemara en la atmosfera\n"
     ]
    }
   ],
   "source": [
    "Velocidad_Asteroide=40\n",
    "Tamaño_Asteroide=10\n",
    "if Velocidad_Asteroide>25 and Tamaño_Asteroide>25:\n",
    "    print(\"ADVERTENCIA UN ASTEROIDE MUY PELIGROSO SE ACERCA A LA TIERRA DEMASIADO RÁPIDO\")\n",
    "elif Velocidad_Asteroide==20 or  Velocidad_Asteroide>20:\n",
    "    print(\"ADVERTENCIA UN ASTEROIDE ENTRO A LA ATMÓSFERA, BUSQUEN UN RAYO DEL LUZ EN EL CIELO \")\n",
    "    if Tamaño_Asteroide<25:\n",
    "        print(\"No hay peligro del asteroide, se quemara en la atmosfera\")\n",
    "else:\n",
    "    print(\"No hay peligro de asteroides, pueden continuar con su día\")"
   ]
  }
 ],
 "metadata": {
  "interpreter": {
   "hash": "b0e65acd5594e06cf203a9046fafdd6d3da3da490119ed7fc66bce12d0fc4a88"
  },
  "kernelspec": {
   "display_name": "Python 3.10.2 64-bit (windows store)",
   "language": "python",
   "name": "python3"
  },
  "language_info": {
   "codemirror_mode": {
    "name": "ipython",
    "version": 3
   },
   "file_extension": ".py",
   "mimetype": "text/x-python",
   "name": "python",
   "nbconvert_exporter": "python",
   "pygments_lexer": "ipython3",
   "version": "3.10.2"
  },
  "orig_nbformat": 4
 },
 "nbformat": 4,
 "nbformat_minor": 2
}
